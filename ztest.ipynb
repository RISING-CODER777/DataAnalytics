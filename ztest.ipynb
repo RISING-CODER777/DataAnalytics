{
 "cells": [
  {
   "cell_type": "code",
   "execution_count": 1,
   "metadata": {},
   "outputs": [],
   "source": [
    "import numpy as np\n",
    "import pandas as pd\n",
    "from scipy import stats"
   ]
  },
  {
   "cell_type": "code",
   "execution_count": 7,
   "metadata": {},
   "outputs": [
    {
     "data": {
      "text/html": [
       "<div>\n",
       "<style scoped>\n",
       "    .dataframe tbody tr th:only-of-type {\n",
       "        vertical-align: middle;\n",
       "    }\n",
       "\n",
       "    .dataframe tbody tr th {\n",
       "        vertical-align: top;\n",
       "    }\n",
       "\n",
       "    .dataframe thead th {\n",
       "        text-align: right;\n",
       "    }\n",
       "</style>\n",
       "<table border=\"1\" class=\"dataframe\">\n",
       "  <thead>\n",
       "    <tr style=\"text-align: right;\">\n",
       "      <th></th>\n",
       "      <th>Dist</th>\n",
       "    </tr>\n",
       "  </thead>\n",
       "  <tbody>\n",
       "    <tr>\n",
       "      <th>0</th>\n",
       "      <td>269</td>\n",
       "    </tr>\n",
       "    <tr>\n",
       "      <th>1</th>\n",
       "      <td>276</td>\n",
       "    </tr>\n",
       "    <tr>\n",
       "      <th>2</th>\n",
       "      <td>258</td>\n",
       "    </tr>\n",
       "    <tr>\n",
       "      <th>3</th>\n",
       "      <td>260</td>\n",
       "    </tr>\n",
       "    <tr>\n",
       "      <th>4</th>\n",
       "      <td>274</td>\n",
       "    </tr>\n",
       "  </tbody>\n",
       "</table>\n",
       "</div>"
      ],
      "text/plain": [
       "   Dist\n",
       "0   269\n",
       "1   276\n",
       "2   258\n",
       "3   260\n",
       "4   274"
      ]
     },
     "execution_count": 7,
     "metadata": {},
     "output_type": "execute_result"
    }
   ],
   "source": [
    "data=pd.read_csv(\"Drone_dist.csv\")\n",
    "data.head()\n"
   ]
  },
  {
   "cell_type": "code",
   "execution_count": 28,
   "metadata": {},
   "outputs": [
    {
     "name": "stdout",
     "output_type": "stream",
     "text": [
      "Zvalue:0.7674146671313485,\n",
      " Table Value:1.9599639845400545\n",
      "Accept Null Hypothesis\n"
     ]
    },
    {
     "data": {
      "text/plain": [
       "(0.7674146671313485, 1.9599639845400545)"
      ]
     },
     "execution_count": 28,
     "metadata": {},
     "output_type": "execute_result"
    }
   ],
   "source": [
    "def Ztest(pop,percent=5,sample_size=50,tail=2,tail_region=\"u\",verbose=True):\n",
    "    samp=pop.sample(n=sample_size)\n",
    "    sampmean,popmean=pop.mean(),samp.mean()\n",
    "    popstd=pop.std()\n",
    "    z=(sampmean-popmean)/(popstd/np.sqrt(sample_size))\n",
    "    qval=percent/100\n",
    "\n",
    "    if(tail==2):\n",
    "        ppf=np.abs(stats.norm.ppf(q=(qval/2)))\n",
    "        z=np.abs(z)\n",
    "    else:\n",
    "        if(tail_region==\"l\"):\n",
    "            ppf=np.abs(stats.norm.ppf(q=qval))\n",
    "        else:\n",
    "            ppf=np.abs(stats.norm.ppf(q=1-qval))\n",
    "    \n",
    "    if verbose:\n",
    "        print(\"Zvalue:{},\\n Table Value:{}\".format(z,ppf))\n",
    "        if(tail==2 or tail==\"u\"):\n",
    "            if(z<ppf):\n",
    "                print(\"Accept Null Hypothesis\")\n",
    "            else:\n",
    "                print(\"Reject Null Hypothesis\")\n",
    "            \n",
    "        else:\n",
    "            if(z>ppf):\n",
    "                print(\"Accept Null Hypothesis\")\n",
    "            else:\n",
    "                print(\"Reject Null Hypothesis\")\n",
    "\n",
    "    return z,ppf\n",
    "\n",
    "Ztest(data.Dist,percent=5)\n",
    "\n",
    "\n",
    "\n",
    "\n",
    "\n",
    "\n"
   ]
  },
  {
   "cell_type": "code",
   "execution_count": null,
   "metadata": {},
   "outputs": [],
   "source": []
  }
 ],
 "metadata": {
  "kernelspec": {
   "display_name": "Python 3.9.8 64-bit",
   "language": "python",
   "name": "python3"
  },
  "language_info": {
   "codemirror_mode": {
    "name": "ipython",
    "version": 3
   },
   "file_extension": ".py",
   "mimetype": "text/x-python",
   "name": "python",
   "nbconvert_exporter": "python",
   "pygments_lexer": "ipython3",
   "version": "3.9.8"
  },
  "orig_nbformat": 4,
  "vscode": {
   "interpreter": {
    "hash": "39830b9a0a143e5b0e524ce0a40ed2d49398a6e5bb40971c13cc2ae243da8f71"
   }
  }
 },
 "nbformat": 4,
 "nbformat_minor": 2
}
