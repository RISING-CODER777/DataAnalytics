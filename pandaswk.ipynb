{
 "cells": [
  {
   "cell_type": "code",
   "execution_count": 2,
   "metadata": {},
   "outputs": [],
   "source": [
    "import numpy as np\n",
    "import pandas as pd"
   ]
  },
  {
   "cell_type": "code",
   "execution_count": 8,
   "metadata": {},
   "outputs": [
    {
     "name": "stdout",
     "output_type": "stream",
     "text": [
      "1    a\n",
      "2    b\n",
      "3    c\n",
      "4    d\n",
      "dtype: object\n"
     ]
    }
   ],
   "source": [
    "#series-list of values\n",
    "a=np.array(['a','b','c','d'])\n",
    "s=pd.Series(a,index=[1,2,3,4])\n",
    "print(s)"
   ]
  },
  {
   "cell_type": "code",
   "execution_count": 7,
   "metadata": {},
   "outputs": [
    {
     "name": "stdout",
     "output_type": "stream",
     "text": [
      "b    1.0\n",
      "c    2.0\n",
      "d    3.0\n",
      "e    NaN\n",
      "dtype: float64\n"
     ]
    }
   ],
   "source": [
    "#series-dict of values\n",
    "d={'a':0,'b':1,\"c\":2,'d':3}\n",
    "s=pd.Series(d,index=['b','c','d','e'])\n",
    "print(s)"
   ]
  },
  {
   "cell_type": "code",
   "execution_count": 11,
   "metadata": {},
   "outputs": [
    {
     "name": "stdout",
     "output_type": "stream",
     "text": [
      "  Name  Age\n",
      "0  Gow   10\n",
      "1   ke   13\n",
      "2   ly   19\n"
     ]
    }
   ],
   "source": [
    "#Data Frame-List \n",
    "data=[['Gow',10],['ke',13],['ly',19]]\n",
    "a=pd.DataFrame(data,index=[0,1,2],columns=[\"Name\",\"Age\"])\n",
    "print(a)"
   ]
  },
  {
   "cell_type": "code",
   "execution_count": 13,
   "metadata": {},
   "outputs": [
    {
     "name": "stdout",
     "output_type": "stream",
     "text": [
      "  Name  Age\n",
      "0   aa   12\n",
      "1   bb   14\n",
      "2   cc   15\n",
      "3   dd   19\n"
     ]
    }
   ],
   "source": [
    "#DataFrame-Dict of ndarrays/Lists\n",
    "data={\"Name\":[\"aa\",\"bb\",\"cc\",\"dd\"],\"Age\":[12,14,15,19]}\n",
    "a=pd.DataFrame(data,index=[0,1,2,3])\n",
    "print(a)"
   ]
  },
  {
   "cell_type": "code",
   "execution_count": null,
   "metadata": {},
   "outputs": [],
   "source": [
    "#panel\n",
    "import pandas as pd\n",
    "import numpy as np\n",
    "data = {'Item1' : pd.DataFrame(np.random.randn(4, 3)), \n",
    "   'Item2' : pd.DataFrame(np.random.randn(4, 2))}\n",
    "p = pd.Panel(data)\n",
    "print p.major_xs(1)"
   ]
  },
  {
   "cell_type": "code",
   "execution_count": 18,
   "metadata": {},
   "outputs": [],
   "source": [
    "#panel-major_xs() and minor_xs() \n",
    "import pandas as pd\n",
    "import numpy as np\n",
    "data = {'Item1' : pd.DataFrame(np.random.randn(4, 3)), \n",
    "   'Item2' : pd.DataFrame(np.random.randn(4, 2))}\n",
    "p = pd.Panel(data)\n",
    "print(p.major_xs(1))\n",
    "print(p.minor_xs(1))"
   ]
  },
  {
   "cell_type": "code",
   "execution_count": 24,
   "metadata": {},
   "outputs": [
    {
     "name": "stdout",
     "output_type": "stream",
     "text": [
      "       col1      col2\n",
      "0  1.639711  1.607418\n",
      "1 -0.635508  0.766596\n",
      "2  0.172569  1.063018\n",
      "3 -0.666383  0.211317\n",
      "4  0.420804  0.330663\n",
      "5 -0.450282 -1.503711\n",
      "6  1.977008  0.155920\n",
      "7 -0.880993 -0.003547\n",
      "8  0.636248 -2.215831\n",
      "9  0.794761 -0.696833\n"
     ]
    }
   ],
   "source": [
    "#sorting-by index\n",
    "a=pd.DataFrame(np.random.randn(10,2),columns=['col1','col2'],index=[2,3,1,4,6,5,9,7,0,8])\n",
    "u=a.sort_index()\n",
    "print(u)"
   ]
  },
  {
   "cell_type": "code",
   "execution_count": 30,
   "metadata": {},
   "outputs": [
    {
     "name": "stdout",
     "output_type": "stream",
     "text": [
      "   col  col2\n",
      "2    1     2\n",
      "1    2     5\n",
      "3    3     1\n",
      "0    4     3\n"
     ]
    }
   ],
   "source": [
    "#sort by values\n",
    "a=pd.DataFrame({'col':[4,2,1,3],'col2':[3,5,2,1]})\n",
    "u=a.sort_values(by='col',kind='mergesort')\n",
    "print(u)"
   ]
  },
  {
   "cell_type": "code",
   "execution_count": 17,
   "metadata": {},
   "outputs": [
    {
     "name": "stdout",
     "output_type": "stream",
     "text": [
      "                   a         b         c         d\n",
      "2022-01-01 -0.222185  0.345311 -0.638250 -0.254456\n",
      "2022-01-02 -0.668816  0.144375  1.517797 -0.995134\n",
      "2022-01-03  0.197217 -1.225969  0.462219  1.102056\n",
      "2022-01-04 -0.938123  0.991781  1.554143 -0.288867\n",
      "2022-01-05  0.892736  0.429086 -1.203896  0.044629\n",
      "2022-01-06  1.382621  0.928318  0.713878  0.954918\n",
      "2022-01-07 -1.786903  1.663207  0.905598  0.419275\n",
      "2022-01-08 -0.005598 -1.247524  1.102656 -1.077281\n",
      "2022-01-09  2.054273 -1.563726 -1.016152  0.133456\n",
      "2022-01-10 -0.501106  0.864340 -0.471634 -0.790222\n"
     ]
    }
   ],
   "source": [
    "#Aggregations\n",
    "a=pd.DataFrame(np.random.randn(10,4),index=pd.date_range('1/1/2022',periods=10),columns=[\"a\",\"b\",\"c\",\"d\"])\n",
    "print(a)"
   ]
  },
  {
   "cell_type": "code",
   "execution_count": 42,
   "metadata": {},
   "outputs": [
    {
     "name": "stdout",
     "output_type": "stream",
     "text": [
      "                   a         b         c         d\n",
      "2022-01-01 -1.359089 -1.160567  0.653141  1.158194\n",
      "2022-01-02  1.166800  1.559290 -0.808362 -0.381661\n",
      "2022-01-03  0.456590 -0.698703 -1.869587  0.621562\n",
      "2022-01-04  0.262472 -1.385405  0.400476  1.055486\n",
      "2022-01-05 -0.990094 -0.271260 -1.272885  1.061243\n",
      "2022-01-06  0.547072 -2.223310 -0.259275 -1.487050\n",
      "2022-01-07  0.207326  0.469355  2.173596 -0.316660\n",
      "2022-01-08 -0.683924  0.222230 -0.560398 -0.015933\n",
      "2022-01-09 -1.142148 -0.069952  0.586665  2.520228\n",
      "2022-01-10  0.557580 -0.242208 -0.267079 -0.409828\n",
      "                   a         b         c         d\n",
      "2022-01-01 -1.359089 -1.160567  0.653141  1.158194\n",
      "2022-01-02 -0.192289  0.398723 -0.155221  0.776533\n",
      "2022-01-03  0.264301 -0.299980 -2.024808  1.398095\n",
      "2022-01-04  1.885863 -0.524818 -2.277472  1.295387\n",
      "2022-01-05 -0.271031 -2.355368 -2.741996  2.738291\n",
      "2022-01-06 -0.180549 -3.879975 -1.131685  0.629679\n",
      "2022-01-07 -0.235695 -2.025214  0.641435 -0.742467\n",
      "2022-01-08  0.070474 -1.531724  1.353922 -1.819642\n",
      "2022-01-09 -1.618747  0.621633  2.199862  2.187635\n",
      "2022-01-10 -1.268493 -0.089930 -0.240812  2.094467\n"
     ]
    }
   ],
   "source": [
    "a=pd.DataFrame(np.random.randn(10,4),index=pd.date_range('1/1/2022',periods=10),columns=[\"a\",\"b\",\"c\",\"d\"])\n",
    "print(a)\n",
    "r=a.rolling(window=3,min_periods=1)\n",
    "print(r.aggregate(np.sum))"
   ]
  },
  {
   "cell_type": "code",
   "execution_count": 48,
   "metadata": {},
   "outputs": [
    {
     "name": "stdout",
     "output_type": "stream",
     "text": [
      "                   a         b         c         d\n",
      "2022-01-01  0.483162 -0.574222  0.748935  0.428874\n",
      "2022-01-02 -0.056404  0.216800 -0.625402  1.896655\n",
      "2022-01-03 -0.309682 -0.564615  0.950568 -1.249596\n",
      "2022-01-04  0.164652  0.337390 -0.694805  1.779367\n",
      "2022-01-05 -1.236622  2.325350  0.675673  0.775567\n",
      "2022-01-06  1.084076  1.082314  0.100078  1.407634\n",
      "2022-01-07 -1.195102  2.083768  2.056107 -1.166306\n",
      "2022-01-08 -1.370206  0.628187 -0.937971 -0.730324\n",
      "2022-01-09 -0.940942  1.028500  0.266705  0.139082\n",
      "2022-01-10 -1.044308 -1.248430 -0.051428 -1.938007\n",
      "                   a         b\n",
      "2022-01-01  0.483162 -0.574222\n",
      "2022-01-02  0.426758 -0.357422\n",
      "2022-01-03  0.117075 -0.922037\n",
      "2022-01-04 -0.201434 -0.010426\n",
      "2022-01-05 -1.381653  2.098125\n",
      "2022-01-06  0.012105  3.745055\n",
      "2022-01-07 -1.347649  5.491433\n",
      "2022-01-08 -1.481232  3.794269\n",
      "2022-01-09 -3.506249  3.740455\n",
      "2022-01-10 -3.355455  0.408257\n"
     ]
    }
   ],
   "source": [
    "a=pd.DataFrame(np.random.randn(10,4),index=pd.date_range('1/1/2022',periods=10),columns=[\"a\",\"b\",\"c\",\"d\"])\n",
    "print(a)\n",
    "r=a.rolling(window=3,min_periods=1)\n",
    "print(r[['a','b']].aggregate(np.sum))"
   ]
  },
  {
   "cell_type": "code",
   "execution_count": 16,
   "metadata": {},
   "outputs": [
    {
     "name": "stdout",
     "output_type": "stream",
     "text": [
      "   X1  X2  X3\n",
      "0   1   4   0\n",
      "1   4   3   5\n",
      "2  10   6   5\n",
      "\n",
      "\n",
      "\n",
      "\n",
      "       X1    X2\n",
      "sum  15.0  13.0\n",
      "max  10.0   NaN\n",
      "min   NaN   3.0\n"
     ]
    }
   ],
   "source": [
    "#aggregations\n",
    "import numpy as np\n",
    "import pandas as pd\n",
    "data=pd.DataFrame([[1,4,0],[4,3,5],[10,6,5]],columns=['X1','X2','X3'])\n",
    "print(data)\n",
    "print('\\n')\n",
    "#print(data.agg(['sum','min']))\n",
    "print('\\n')\n",
    "print(data.agg({'X1':['sum','max'],'X2':['sum','min'] }))"
   ]
  },
  {
   "cell_type": "code",
   "execution_count": 6,
   "metadata": {},
   "outputs": [
    {
     "name": "stdout",
     "output_type": "stream",
     "text": [
      "  name  year  rank\n",
      "0  csk  2001     1\n",
      "1  kkr  2003     2\n",
      "2   mi  2001     3\n",
      "3  rcb  2004    12\n",
      "4  csk  2006     3\n",
      "5   mi  2007     4\n"
     ]
    }
   ],
   "source": [
    "#Groupby\n",
    "a=pd.DataFrame({\"name\":[\"csk\",\"kkr\",\"mi\",\"rcb\",\"csk\",\"mi\"],'year':[2001,2003,2001,2004,2006,2007],\"rank\":[1,2,3,12,3,4]})\n",
    "print(a)"
   ]
  },
  {
   "cell_type": "code",
   "execution_count": 54,
   "metadata": {},
   "outputs": [
    {
     "name": "stdout",
     "output_type": "stream",
     "text": [
      "{('csk', 2001): [0], ('csk', 2006): [4], ('kkr', 2003): [1], ('mi', 2001): [2], ('mi', 2007): [5], ('rcb', 2004): [3]}\n"
     ]
    }
   ],
   "source": [
    "b=a.groupby([\"name\",\"year\"]).groups\n",
    "print(b)"
   ]
  },
  {
   "cell_type": "code",
   "execution_count": 15,
   "metadata": {},
   "outputs": [
    {
     "name": "stdout",
     "output_type": "stream",
     "text": [
      "2001\n",
      "  name  year  rank\n",
      "0  csk  2001     1\n",
      "2   mi  2001     3\n",
      "2003\n",
      "  name  year  rank\n",
      "1  kkr  2003     2\n",
      "2004\n",
      "  name  year  rank\n",
      "3  rcb  2004    12\n",
      "2006\n",
      "  name  year  rank\n",
      "4  csk  2006     3\n",
      "2007\n",
      "  name  year  rank\n",
      "5   mi  2007     4\n"
     ]
    }
   ],
   "source": [
    "grouped=a.groupby(\"year\")\n",
    "for name,group in grouped:\n",
    "    print(name)\n",
    "    print(group)"
   ]
  },
  {
   "cell_type": "code",
   "execution_count": null,
   "metadata": {},
   "outputs": [],
   "source": []
  }
 ],
 "metadata": {
  "interpreter": {
   "hash": "bd893a270290c444e89f14a35ab63b8f7202247497f4e05ab08f731750bcc3b3"
  },
  "kernelspec": {
   "display_name": "Python 3.9.8 64-bit",
   "language": "python",
   "name": "python3"
  },
  "language_info": {
   "codemirror_mode": {
    "name": "ipython",
    "version": 3
   },
   "file_extension": ".py",
   "mimetype": "text/x-python",
   "name": "python",
   "nbconvert_exporter": "python",
   "pygments_lexer": "ipython3",
   "version": "3.9.8"
  },
  "orig_nbformat": 4
 },
 "nbformat": 4,
 "nbformat_minor": 2
}
