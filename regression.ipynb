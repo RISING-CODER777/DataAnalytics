{
 "cells": [
  {
   "cell_type": "code",
   "execution_count": 152,
   "metadata": {},
   "outputs": [],
   "source": [
    "import numpy as np\n",
    "import pandas as pd\n",
    "import thinkstats2\n",
    "import matplotlib.pyplot as plt\n",
    "import thinkplot"
   ]
  },
  {
   "cell_type": "code",
   "execution_count": 153,
   "metadata": {},
   "outputs": [
    {
     "data": {
      "text/html": [
       "<div>\n",
       "<style scoped>\n",
       "    .dataframe tbody tr th:only-of-type {\n",
       "        vertical-align: middle;\n",
       "    }\n",
       "\n",
       "    .dataframe tbody tr th {\n",
       "        vertical-align: top;\n",
       "    }\n",
       "\n",
       "    .dataframe thead th {\n",
       "        text-align: right;\n",
       "    }\n",
       "</style>\n",
       "<table border=\"1\" class=\"dataframe\">\n",
       "  <thead>\n",
       "    <tr style=\"text-align: right;\">\n",
       "      <th></th>\n",
       "      <th>YearsExperience</th>\n",
       "      <th>Salary</th>\n",
       "    </tr>\n",
       "  </thead>\n",
       "  <tbody>\n",
       "    <tr>\n",
       "      <th>0</th>\n",
       "      <td>1.1</td>\n",
       "      <td>39343.0</td>\n",
       "    </tr>\n",
       "    <tr>\n",
       "      <th>1</th>\n",
       "      <td>1.3</td>\n",
       "      <td>46205.0</td>\n",
       "    </tr>\n",
       "    <tr>\n",
       "      <th>2</th>\n",
       "      <td>1.5</td>\n",
       "      <td>37731.0</td>\n",
       "    </tr>\n",
       "    <tr>\n",
       "      <th>3</th>\n",
       "      <td>2.0</td>\n",
       "      <td>43525.0</td>\n",
       "    </tr>\n",
       "    <tr>\n",
       "      <th>4</th>\n",
       "      <td>2.2</td>\n",
       "      <td>39891.0</td>\n",
       "    </tr>\n",
       "  </tbody>\n",
       "</table>\n",
       "</div>"
      ],
      "text/plain": [
       "   YearsExperience   Salary\n",
       "0              1.1  39343.0\n",
       "1              1.3  46205.0\n",
       "2              1.5  37731.0\n",
       "3              2.0  43525.0\n",
       "4              2.2  39891.0"
      ]
     },
     "execution_count": 153,
     "metadata": {},
     "output_type": "execute_result"
    }
   ],
   "source": [
    "data=pd.read_csv(\"Salary_Data.csv\")\n",
    "data.head()"
   ]
  },
  {
   "cell_type": "code",
   "execution_count": 154,
   "metadata": {},
   "outputs": [],
   "source": [
    "d1=data[\"YearsExperience\"].to_numpy()\n",
    "d2=data[\"Salary\"].to_numpy()"
   ]
  },
  {
   "cell_type": "code",
   "execution_count": 155,
   "metadata": {},
   "outputs": [
    {
     "data": {
      "text/plain": [
       "(24060.793308967623, 9775.823091160422)"
      ]
     },
     "execution_count": 155,
     "metadata": {},
     "output_type": "execute_result"
    }
   ],
   "source": [
    "#finding the slopes and the intercept\n",
    "def least2_squares(xs, ys):\n",
    "    meanx, varx = np.mean(xs), np.var(xs)\n",
    "    meany = np.mean(ys)\n",
    "\n",
    "    slope = np.cov(xs, ys)[0, 1] / varx\n",
    "    intercept = meany - (slope * meanx)\n",
    "\n",
    "    return intercept, slope\n",
    "inter,slopes=least2_squares(d1,d2)\n",
    "inter,slopes"
   ]
  },
  {
   "cell_type": "code",
   "execution_count": 156,
   "metadata": {},
   "outputs": [
    {
     "data": {
      "text/plain": [
       "(array([ 1.1,  1.3,  1.5,  2. ,  2.2,  2.9,  3. ,  3.2,  3.2,  3.7,  3.9,\n",
       "         4. ,  4. ,  4.1,  4.5,  4.9,  5.1,  5.3,  5.9,  6. ,  6.8,  7.1,\n",
       "         7.9,  8.2,  8.7,  9. ,  9.5,  9.6, 10.3, 10.5]),\n",
       " array([ 34814.19870924,  36769.36332748,  38724.52794571,  43612.43949129,\n",
       "         45567.60410952,  52410.68027333,  53388.26258245,  55343.42720068,\n",
       "         55343.42720068,  60231.33874626,  62186.50336449,  63164.08567361,\n",
       "         63164.08567361,  64141.66798273,  68051.99721919,  71962.32645565,\n",
       "         73917.49107389,  75872.65569212,  81738.14954681,  82715.73185593,\n",
       "         90536.39032886,  93469.13725621, 101289.79572913, 104222.54265648,\n",
       "        109110.45420206, 112043.20112941, 116931.11267499, 117908.69498411,\n",
       "        124751.77114792, 126706.93576615]))"
      ]
     },
     "execution_count": 156,
     "metadata": {},
     "output_type": "execute_result"
    }
   ],
   "source": [
    "#finding the fitline\n",
    "def Fitline(xs,inter,slope):\n",
    "    fit_xs=np.sort(xs)\n",
    "    fit_ys=inter+slope*fit_xs\n",
    "    return fit_xs,fit_ys\n",
    "fit_xs,fit_ys=Fitline(d1,inter,slopes)\n",
    "fit_xs,fit_ys\n"
   ]
  },
  {
   "cell_type": "code",
   "execution_count": 157,
   "metadata": {},
   "outputs": [
    {
     "data": {
      "image/png": "[encoded data removed]",
      "text/plain": [
       "<Figure size 432x288 with 1 Axes>"
      ]
     },
     "metadata": {
      "needs_background": "light"
     },
     "output_type": "display_data"
    }
   ],
   "source": [
    "#plotting\n",
    "thinkplot.Scatter(d1,d2,color=\"blue\",alpha=0.5)\n",
    "thinkplot.Plot(fit_xs, fit_ys, color='white', linewidth=3)\n",
    "thinkplot.Plot(fit_xs, fit_ys, color='red', linewidth=2)\n",
    "thinkplot.Config(xlabel=\"Experience (years)\",\n",
    "                 ylabel='Salary(rs)',legend=False)\n"
   ]
  },
  {
   "cell_type": "code",
   "execution_count": 158,
   "metadata": {},
   "outputs": [
    {
     "data": {
      "text/plain": [
       "array([ 4528.80129076,  9435.63667252,  -993.52794571,   -87.43949129,\n",
       "       -5676.60410952,  4231.31972667,  6761.73741755,  -898.42720068,\n",
       "        9101.57279932, -3042.33874626,  1031.49663551, -7370.08567361,\n",
       "       -6207.08567361, -7060.66798273, -6940.99721919, -4024.32645565,\n",
       "       -7888.49107389,  7215.34430788,  -375.14954681, 11224.26814407,\n",
       "        1201.60967114,  4803.86274379,    12.20427087,  9589.45734352,\n",
       "         320.54579794, -6461.20112941,    37.88732501, -5273.69498411,\n",
       "       -2360.77114792, -4834.93576615])"
      ]
     },
     "execution_count": 158,
     "metadata": {},
     "output_type": "execute_result"
    }
   ],
   "source": [
    "#finding the residuals\n",
    "def Residuals(xs, ys, inter, slope):\n",
    "    xs = np.asarray(xs)\n",
    "    ys = np.asarray(ys)\n",
    "    res = ys - (inter + slope * xs)\n",
    "    return res\n",
    "res=Residuals(d1,d2,inter,slopes)\n",
    "res\n"
   ]
  },
  {
   "cell_type": "code",
   "execution_count": 159,
   "metadata": {},
   "outputs": [
    {
     "data": {
      "text/plain": [
       "[Cdf([-7888.49107389 -7370.08567361 -7060.66798273 -6940.99721919\n",
       "  -6461.20112941 -6207.08567361 -5676.60410952 -5273.69498411\n",
       "  -4834.93576615 -4024.32645565 -3042.33874626 -2360.77114792\n",
       "   -993.52794571  -898.42720068  -375.14954681   -87.43949129\n",
       "     12.20427087    37.88732501   320.54579794  1031.49663551\n",
       "   1201.60967114  4231.31972667  4528.80129076  4803.86274379\n",
       "   6761.73741755  7215.34430788  9101.57279932  9435.63667252\n",
       "   9589.45734352 11224.26814407], [0.03333333 0.06666667 0.1        0.13333333 0.16666667 0.2\n",
       "  0.23333333 0.26666667 0.3        0.33333333 0.36666667 0.4\n",
       "  0.43333333 0.46666667 0.5        0.53333333 0.56666667 0.6\n",
       "  0.63333333 0.66666667 0.7        0.73333333 0.76666667 0.8\n",
       "  0.83333333 0.86666667 0.9        0.93333333 0.96666667 1.        ])]"
      ]
     },
     "execution_count": 159,
     "metadata": {},
     "output_type": "execute_result"
    }
   ],
   "source": [
    "\n",
    "cdfs = [thinkstats2.Cdf(res)]\n",
    "cdfs"
   ]
  },
  {
   "cell_type": "code",
   "execution_count": 165,
   "metadata": {},
   "outputs": [
    {
     "data": {
      "image/png": "[encoded data removed]",
      "text/plain": [
       "<Figure size 432x288 with 1 Axes>"
      ]
     },
     "metadata": {
      "needs_background": "light"
     },
     "output_type": "display_data"
    }
   ],
   "source": [
    "def confidence_interval(xs, intercept, slope, percent =90):\n",
    "    fit_xs, fit_ys = Fitline(xs, intercept, slope)\n",
    "\n",
    "    p = (100 - percent) / 200\n",
    "    ci = p * np.std(fit_ys) / np.mean(fit_ys)\n",
    "\n",
    "    plt.plot(fit_xs, fit_ys)\n",
    "    plt.fill_between(fit_xs, (fit_ys-ci), (fit_ys+ci), color='blue', alpha=0.5)\n",
    "    plt.fill_between(fit_xs, (fit_ys-2*ci), (fit_ys+2*ci), color='yellow', alpha=0.5)\n",
    "    plt.show()\n",
    "confidence_interval(d1,d2,inter,slopes)\n"
   ]
  },
  {
   "cell_type": "code",
   "execution_count": 161,
   "metadata": {},
   "outputs": [
    {
     "name": "stdout",
     "output_type": "stream",
     "text": [
      "0.9558187846379871\n"
     ]
    }
   ],
   "source": [
    "from thinkstats2 import Var\n",
    "def CoefDetermination(ys, res):\n",
    "    return 1 -Var(res) / Var(ys)\n",
    "CoefDetermination(d2,res)\n",
    "inter, slope = least2_squares(d1,d2)\n",
    "res = Residuals(d1,d2,inter, slope)\n",
    "r2 =CoefDetermination(d2, res)\n",
    "print(r2)"
   ]
  },
  {
   "cell_type": "code",
   "execution_count": 168,
   "metadata": {},
   "outputs": [
    {
     "name": "stdout",
     "output_type": "stream",
     "text": [
      "rho 0.978\n",
      "R 0.978\n"
     ]
    }
   ],
   "source": [
    "rho=thinkstats2.Corr(d1, d2)\n",
    "print('rho', np.round(rho,3))\n",
    "print('R', np.round(np.sqrt(r2),3))    "
   ]
  },
  {
   "cell_type": "code",
   "execution_count": 163,
   "metadata": {},
   "outputs": [
    {
     "name": "stdout",
     "output_type": "stream",
     "text": [
      "Std(ys) 26953.65024877583\n",
      "Std(res) 5665.476179720797\n"
     ]
    }
   ],
   "source": [
    "from thinkstats2 import Std\n",
    "print('Std(ys)', Std(d2))\n",
    "print('Std(res)', Std(res))"
   ]
  },
  {
   "cell_type": "code",
   "execution_count": 166,
   "metadata": {},
   "outputs": [
    {
     "name": "stdout",
     "output_type": "stream",
     "text": [
      "mean, SE, CI 16918.30820006402 7142.4851089036 (9775.823091160422, 24060.793308967623)\n"
     ]
    }
   ],
   "source": [
    "from thinkstats2 import Mean\n",
    "estimates = least2_squares(d1, d2)\n",
    "def Summarize(estimates, actual=None):\n",
    "    mean = Mean(estimates)\n",
    "    stderr = Std(estimates, mu=actual)\n",
    "    cdf = thinkstats2.Cdf(estimates)\n",
    "    ci = cdf.ConfidenceInterval(90)\n",
    "    print('mean, SE, CI', mean, stderr, ci)\n",
    "Summarize(estimates)"
   ]
  }
 ],
 "metadata": {
  "kernelspec": {
   "display_name": "Python 3.9.8 64-bit",
   "language": "python",
   "name": "python3"
  },
  "language_info": {
   "codemirror_mode": {
    "name": "ipython",
    "version": 3
   },
   "file_extension": ".py",
   "mimetype": "text/x-python",
   "name": "python",
   "nbconvert_exporter": "python",
   "pygments_lexer": "ipython3",
   "version": "3.9.8"
  },
  "orig_nbformat": 4,
  "vscode": {
   "interpreter": {
    "hash": "39830b9a0a143e5b0e524ce0a40ed2d49398a6e5bb40971c13cc2ae243da8f71"
   }
  }
 },
 "nbformat": 4,
 "nbformat_minor": 2
}
