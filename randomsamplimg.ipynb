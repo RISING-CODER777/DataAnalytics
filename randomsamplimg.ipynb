{
 "cells": [
  {
   "cell_type": "code",
   "execution_count": 14,
   "metadata": {},
   "outputs": [],
   "source": [
    "import numpy as np \n",
    "import pandas as pd \n",
    "import random"
   ]
  },
  {
   "cell_type": "code",
   "execution_count": 15,
   "metadata": {},
   "outputs": [],
   "source": [
    "bmi_list = [29, 18, 20, 22, 19, 25, 30, 28,22, 21, 18, 19, 20, 20, 22, 23]"
   ]
  },
  {
   "cell_type": "code",
   "execution_count": 16,
   "metadata": {},
   "outputs": [
    {
     "name": "stdout",
     "output_type": "stream",
     "text": [
      "First choice: 30\n",
      "Second choice: 23\n",
      "Third choice: 23\n"
     ]
    }
   ],
   "source": [
    "#random.choice(list)\n",
    "\n",
    "print(\"First choice:\",random.choice(bmi_list))\n",
    "print(\"Second choice:\",random.choice(bmi_list))\n",
    "print(\"Third choice:\",random.choice(bmi_list))\n"
   ]
  },
  {
   "cell_type": "code",
   "execution_count": 17,
   "metadata": {},
   "outputs": [
    {
     "name": "stdout",
     "output_type": "stream",
     "text": [
      "Sample of size 4: [19, 22, 29, 18]\n",
      "Sample of size 3: [23, 21, 30]\n",
      "Sample of size 7: [20, 20, 22, 28, 30, 22, 21]\n"
     ]
    }
   ],
   "source": [
    "#random.sample(list,samplesize)\n",
    "print(\"Sample of size 4:\",random.sample(bmi_list,4))\n",
    "print(\"Sample of size 3:\",random.sample(bmi_list,3))\n",
    "print(\"Sample of size 7:\",random.sample(bmi_list,7))"
   ]
  },
  {
   "cell_type": "code",
   "execution_count": 27,
   "metadata": {},
   "outputs": [
    {
     "data": {
      "text/plain": [
       "[23, 19, 21, 25, 28, 19, 22, 18, 22, 20, 20, 20, 22, 18, 29, 30]"
      ]
     },
     "execution_count": 27,
     "metadata": {},
     "output_type": "execute_result"
    }
   ],
   "source": [
    "#random.shuffle(list)\n",
    "bmi_list = [29, 18, 20, 22, 19, 25, 30, 28,22, 21, 18, 19, 20, 20, 22, 23]\n",
    "random.shuffle(bmi_list)\n",
    "bmi_list"
   ]
  },
  {
   "cell_type": "code",
   "execution_count": 33,
   "metadata": {},
   "outputs": [
    {
     "name": "stdout",
     "output_type": "stream",
     "text": [
      "INT number is: 9\n",
      "Float Number is: 0.5793343054776987\n"
     ]
    }
   ],
   "source": [
    "#random.randint((1,4))\n",
    "print(\"INT number is:\",np.random.randint(9,12))\n",
    "#random.randfloat((1,4))\n",
    "print(\"Float Number is:\",np.random.random())\n"
   ]
  },
  {
   "cell_type": "code",
   "execution_count": 34,
   "metadata": {},
   "outputs": [
    {
     "name": "stdout",
     "output_type": "stream",
     "text": [
      "List is: [48, 44, 7, 20, 22, 44, 22, 43, 32, 39, 23, 46, 19, 37, 15, 33, 18, 7, 38, 10, 45, 17, 26, 7, 47, 30, 47, 7, 35, 46, 17, 38, 9, 24, 24, 45, 7, 7, 37, 29, 40, 35, 11, 46, 12, 30, 40, 15, 38]\n"
     ]
    }
   ],
   "source": [
    "nums=[]\n",
    "for i in range(1,50):\n",
    "    x=random.randint(5,49)\n",
    "    nums.append(x)\n",
    "print(\"List is:\",nums)"
   ]
  },
  {
   "cell_type": "code",
   "execution_count": 38,
   "metadata": {},
   "outputs": [
    {
     "name": "stdout",
     "output_type": "stream",
     "text": [
      "Float numbers is: [0.42 0.33 0.87 0.46 0.52 0.27 0.38 0.66 0.56 0.77 0.86 0.78 0.83 0.63\n",
      " 0.63 0.3  0.58 0.64 0.67 0.08 0.85 0.66 0.86 0.77 0.64 0.47 0.26 0.08\n",
      " 0.73 0.11 0.65 0.11 0.06 0.64 0.3  0.37 0.97 0.25 0.25 0.72 0.75 0.46\n",
      " 0.41 0.59]\n"
     ]
    }
   ],
   "source": [
    "nums=[]\n",
    "for j in range(1,45):\n",
    "    x=random.random()\n",
    "    nums.append(x)\n",
    "print(\"Float numbers is:\",np.round(nums,2))"
   ]
  },
  {
   "cell_type": "code",
   "execution_count": 41,
   "metadata": {},
   "outputs": [
    {
     "name": "stdout",
     "output_type": "stream",
     "text": [
      "[ 9.6   4.39  2.78  3.22  0.47  9.89  8.26  2.25  8.38 -0.33  4.56  9.16\n",
      "  4.88  7.81  6.9   7.43  6.32  3.39  9.3   2.46  6.35 -0.77  9.61  5.64\n",
      "  3.51 -0.63  7.66  8.47  6.1   4.83  2.55 -0.39  7.68  3.85  9.75  8.1\n",
      "  0.71  9.71  5.36  5.96  2.13  9.86  0.21  4.56  3.96  1.94  0.82  0.31\n",
      "  7.92  9.76]\n"
     ]
    }
   ],
   "source": [
    "#computing uniform distributed numbers\n",
    "\n",
    "x=np.random.uniform(-1,10,50)\n",
    "print(np.round(x,2))\n"
   ]
  },
  {
   "cell_type": "code",
   "execution_count": 46,
   "metadata": {},
   "outputs": [
    {
     "data": {
      "text/plain": [
       "0.656585826778826"
      ]
     },
     "execution_count": 46,
     "metadata": {},
     "output_type": "execute_result"
    }
   ],
   "source": [
    "#computing normally distributed numbers \n",
    "x=random.gauss(1,10)\n",
    "x"
   ]
  },
  {
   "cell_type": "code",
   "execution_count": null,
   "metadata": {},
   "outputs": [],
   "source": []
  }
 ],
 "metadata": {
  "kernelspec": {
   "display_name": "Python 3.9.8 64-bit",
   "language": "python",
   "name": "python3"
  },
  "language_info": {
   "codemirror_mode": {
    "name": "ipython",
    "version": 3
   },
   "file_extension": ".py",
   "mimetype": "text/x-python",
   "name": "python",
   "nbconvert_exporter": "python",
   "pygments_lexer": "ipython3",
   "version": "3.9.8"
  },
  "orig_nbformat": 4,
  "vscode": {
   "interpreter": {
    "hash": "39830b9a0a143e5b0e524ce0a40ed2d49398a6e5bb40971c13cc2ae243da8f71"
   }
  }
 },
 "nbformat": 4,
 "nbformat_minor": 2
}
