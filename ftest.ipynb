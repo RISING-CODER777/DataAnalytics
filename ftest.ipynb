{
 "cells": [
  {
   "cell_type": "code",
   "execution_count": 1,
   "metadata": {},
   "outputs": [],
   "source": [
    "import numpy as np \n",
    "import pandas as pd \n",
    "from scipy import stats"
   ]
  },
  {
   "cell_type": "code",
   "execution_count": 23,
   "metadata": {},
   "outputs": [
    {
     "data": {
      "text/html": [
       "<div>\n",
       "<style scoped>\n",
       "    .dataframe tbody tr th:only-of-type {\n",
       "        vertical-align: middle;\n",
       "    }\n",
       "\n",
       "    .dataframe tbody tr th {\n",
       "        vertical-align: top;\n",
       "    }\n",
       "\n",
       "    .dataframe thead th {\n",
       "        text-align: right;\n",
       "    }\n",
       "</style>\n",
       "<table border=\"1\" class=\"dataframe\">\n",
       "  <thead>\n",
       "    <tr style=\"text-align: right;\">\n",
       "      <th></th>\n",
       "      <th>Current</th>\n",
       "      <th>New</th>\n",
       "    </tr>\n",
       "  </thead>\n",
       "  <tbody>\n",
       "    <tr>\n",
       "      <th>0</th>\n",
       "      <td>264</td>\n",
       "      <td>277</td>\n",
       "    </tr>\n",
       "    <tr>\n",
       "      <th>1</th>\n",
       "      <td>261</td>\n",
       "      <td>269</td>\n",
       "    </tr>\n",
       "    <tr>\n",
       "      <th>2</th>\n",
       "      <td>267</td>\n",
       "      <td>263</td>\n",
       "    </tr>\n",
       "    <tr>\n",
       "      <th>3</th>\n",
       "      <td>272</td>\n",
       "      <td>266</td>\n",
       "    </tr>\n",
       "    <tr>\n",
       "      <th>4</th>\n",
       "      <td>258</td>\n",
       "      <td>262</td>\n",
       "    </tr>\n",
       "  </tbody>\n",
       "</table>\n",
       "</div>"
      ],
      "text/plain": [
       "   Current  New\n",
       "0      264  277\n",
       "1      261  269\n",
       "2      267  263\n",
       "3      272  266\n",
       "4      258  262"
      ]
     },
     "execution_count": 23,
     "metadata": {},
     "output_type": "execute_result"
    }
   ],
   "source": [
    "data=pd.read_csv(\"Golf.csv\")\n",
    "data.head()"
   ]
  },
  {
   "cell_type": "code",
   "execution_count": 24,
   "metadata": {},
   "outputs": [
    {
     "name": "stdout",
     "output_type": "stream",
     "text": [
      "F value:1.2784578184221755,Table Value:0.5866943355447732,df1:39,df2:39\n",
      "Reject Null Hypothesis\n"
     ]
    }
   ],
   "source": [
    "def Ftest(col1,col2,percent=10,tail=2,tail_region=\"u\",verbose=True):\n",
    "    var1,var2=col1.var(),col2.var()\n",
    "    n1,n2=col1.count(),col2.count()\n",
    "    dfn=n1-1\n",
    "    dfd=n2-1\n",
    "    dfn=n1-1\n",
    "    dfd=n2-1\n",
    "    if var1>=var2:\n",
    "        f=var1/var2\n",
    "    elif var1<var2:\n",
    "        f=var2/var1\n",
    "    qval=percent/100\n",
    "    if(tail==2):\n",
    "        ppf=np.abs(stats.f.ppf(q=qval/2,dfn=dfn,dfd=dfd))\n",
    "        f=np.abs(f)\n",
    "\n",
    "    else:\n",
    "        if(tail==\"l\"):\n",
    "            ppf=np.abs(stats.f.ppf(q=qval,dfn=dfn,dfd=dfd))\n",
    "        else:\n",
    "            ppf=np.abs(stats.f.ppf(q=1-qval,dfn=dfn,dfd=dfd))\n",
    "    if verbose:\n",
    "        print(\"F value:{},Table Value:{},df1:{},df2:{}\".format(f,ppf,dfn,dfd))\n",
    "        if(tail==2 or tail_region==\"u\"):\n",
    "            if(f<ppf):\n",
    "                print(\"Accept Null Hypothesis\")\n",
    "            else:\n",
    "                print(\"Reject Null Hypothesis\")\n",
    "        else:\n",
    "            if(f>ppf):\n",
    "                print(\"Accept Null Hypothesis\")\n",
    "            else:\n",
    "                print(\"Reject Null Hypothesis\")\n",
    "\n",
    "Ftest(data.Current,data.New,percent=10)\n",
    "\n"
   ]
  },
  {
   "cell_type": "code",
   "execution_count": null,
   "metadata": {},
   "outputs": [],
   "source": []
  }
 ],
 "metadata": {
  "kernelspec": {
   "display_name": "Python 3.9.8 64-bit",
   "language": "python",
   "name": "python3"
  },
  "language_info": {
   "codemirror_mode": {
    "name": "ipython",
    "version": 3
   },
   "file_extension": ".py",
   "mimetype": "text/x-python",
   "name": "python",
   "nbconvert_exporter": "python",
   "pygments_lexer": "ipython3",
   "version": "3.9.8"
  },
  "orig_nbformat": 4,
  "vscode": {
   "interpreter": {
    "hash": "39830b9a0a143e5b0e524ce0a40ed2d49398a6e5bb40971c13cc2ae243da8f71"
   }
  }
 },
 "nbformat": 4,
 "nbformat_minor": 2
}
